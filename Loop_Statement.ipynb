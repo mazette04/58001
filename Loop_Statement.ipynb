{
  "nbformat": 4,
  "nbformat_minor": 0,
  "metadata": {
    "colab": {
      "provenance": [],
      "authorship_tag": "ABX9TyPl/zmxWtLPMnWMXs6dsZss",
      "include_colab_link": true
    },
    "kernelspec": {
      "name": "python3",
      "display_name": "Python 3"
    },
    "language_info": {
      "name": "python"
    }
  },
  "cells": [
    {
      "cell_type": "markdown",
      "metadata": {
        "id": "view-in-github",
        "colab_type": "text"
      },
      "source": [
        "<a href=\"https://colab.research.google.com/github/mazette04/OOP_58001/blob/main/Loop_Statement.ipynb\" target=\"_parent\"><img src=\"https://colab.research.google.com/assets/colab-badge.svg\" alt=\"Open In Colab\"/></a>"
      ]
    },
    {
      "cell_type": "markdown",
      "source": [
        "for loop"
      ],
      "metadata": {
        "id": "XnbJ-i9YZmyd"
      }
    },
    {
      "cell_type": "code",
      "source": [
        "week = [\"Sunday\",\"Monday\",\"Tuesday\",\"Wednesday\",\"Thursday\",\"Friday\",\"Saturday\"]\n",
        "for x in week:\n",
        "  print(x)"
      ],
      "metadata": {
        "colab": {
          "base_uri": "https://localhost:8080/"
        },
        "id": "JeGGLUvtZpcs",
        "outputId": "1242407f-3bab-4f77-cb52-e0368ce89789"
      },
      "execution_count": 1,
      "outputs": [
        {
          "output_type": "stream",
          "name": "stdout",
          "text": [
            "Sunday\n",
            "Monday\n",
            "Tuesday\n",
            "Wednesday\n",
            "Thursday\n",
            "Friday\n",
            "Saturday\n"
          ]
        }
      ]
    },
    {
      "cell_type": "markdown",
      "source": [
        "break statement"
      ],
      "metadata": {
        "id": "SM5hrIS9aPw8"
      }
    },
    {
      "cell_type": "code",
      "source": [
        "week = [\"Sunday\",\"Monday\",\"Tuesday\",\"Wednesday\",\"Thursday\",\"Friday\",\"Saturday\"]\n",
        "for x in week:\n",
        "  if x == \"Thursday\":      \n",
        "    print(x)       #It only displays Thursday\n",
        "    break\n",
        "  \n"
      ],
      "metadata": {
        "colab": {
          "base_uri": "https://localhost:8080/"
        },
        "id": "e-FhEocwaS9h",
        "outputId": "a0eeb4fe-6195-4433-ebfc-696bee711d19"
      },
      "execution_count": 11,
      "outputs": [
        {
          "output_type": "stream",
          "name": "stdout",
          "text": [
            "Thursday\n"
          ]
        }
      ]
    },
    {
      "cell_type": "code",
      "source": [
        "week = [\"Sunday\",\"Monday\",\"Tuesday\",\"Wednesday\",\"Thursday\",\"Friday\",\"Saturday\"]\n",
        "for x in week:\n",
        "  if x == \"Thursday\":\n",
        "    break\n",
        "  print(x)         #It displays from Sunday to Wednesday"
      ],
      "metadata": {
        "colab": {
          "base_uri": "https://localhost:8080/"
        },
        "id": "ltPQtG6ZcaiP",
        "outputId": "d0329e5e-e8f3-477c-af78-25808127d1b0"
      },
      "execution_count": 10,
      "outputs": [
        {
          "output_type": "stream",
          "name": "stdout",
          "text": [
            "Sunday\n",
            "Monday\n",
            "Tuesday\n",
            "Wednesday\n"
          ]
        }
      ]
    },
    {
      "cell_type": "code",
      "source": [
        "#To display only Tuesday and Wednesday using break statement\n"
      ],
      "metadata": {
        "id": "u2EF1pXEczj6"
      },
      "execution_count": null,
      "outputs": []
    },
    {
      "cell_type": "markdown",
      "source": [
        "Looping through a string"
      ],
      "metadata": {
        "id": "ZWFdgCbnd9Bu"
      }
    },
    {
      "cell_type": "code",
      "source": [
        "for x in \"week\":\n",
        "  print(x)"
      ],
      "metadata": {
        "colab": {
          "base_uri": "https://localhost:8080/"
        },
        "id": "E94KpqbQd_AT",
        "outputId": "0dd4e8f4-7ecb-4b17-e783-4f7b1cdd8f8c"
      },
      "execution_count": 12,
      "outputs": [
        {
          "output_type": "stream",
          "name": "stdout",
          "text": [
            "w\n",
            "e\n",
            "e\n",
            "k\n"
          ]
        }
      ]
    },
    {
      "cell_type": "markdown",
      "source": [
        "Nested Loop"
      ],
      "metadata": {
        "id": "Y8hsKkirfVzP"
      }
    },
    {
      "cell_type": "code",
      "source": [
        "adjective = ['red', 'big','tasty']\n",
        "fruits = ['apple','banana','cherry']\n",
        "for x in adjective:\n",
        "  for y in fruits:\n",
        "    print(x,y)"
      ],
      "metadata": {
        "colab": {
          "base_uri": "https://localhost:8080/"
        },
        "id": "lUCeiakffZ4G",
        "outputId": "e26f3dc2-e2ba-4ebc-c930-bed617f71a06"
      },
      "execution_count": 14,
      "outputs": [
        {
          "output_type": "stream",
          "name": "stdout",
          "text": [
            "red apple\n",
            "red banana\n",
            "red cherry\n",
            "big apple\n",
            "big banana\n",
            "big cherry\n",
            "tasty apple\n",
            "tasty banana\n",
            "tasty cherry\n"
          ]
        }
      ]
    },
    {
      "cell_type": "markdown",
      "source": [
        "while loop"
      ],
      "metadata": {
        "id": "yMQtTEpigqQx"
      }
    },
    {
      "cell_type": "code",
      "source": [
        "i = 1\n",
        "while i<=6:\n",
        "  print(i)\n",
        "  i+=1\n"
      ],
      "metadata": {
        "colab": {
          "base_uri": "https://localhost:8080/"
        },
        "id": "BpYb0EYrgsVn",
        "outputId": "c3220897-70dc-4e1a-b8db-8320bd4b42c3"
      },
      "execution_count": 16,
      "outputs": [
        {
          "output_type": "stream",
          "name": "stdout",
          "text": [
            "1\n",
            "2\n",
            "3\n",
            "4\n",
            "5\n",
            "6\n"
          ]
        }
      ]
    },
    {
      "cell_type": "code",
      "source": [
        "#using break statement\n",
        "i = 1\n",
        "while i<6:\n",
        "  print(i)\n",
        "  if i == 3:\n",
        "    break\n",
        "  i+=1"
      ],
      "metadata": {
        "colab": {
          "base_uri": "https://localhost:8080/"
        },
        "id": "glXvcKvkhtpb",
        "outputId": "8301cc4e-1bbe-49da-d787-83817f1ab22d"
      },
      "execution_count": 17,
      "outputs": [
        {
          "output_type": "stream",
          "name": "stdout",
          "text": [
            "1\n",
            "2\n",
            "3\n"
          ]
        }
      ]
    },
    {
      "cell_type": "code",
      "source": [
        "i = 1\n",
        "while i<6:\n",
        "  if i ==3:\n",
        "    print (i)      #print only 3\n",
        "    break\n",
        "  i+=1"
      ],
      "metadata": {
        "colab": {
          "base_uri": "https://localhost:8080/"
        },
        "id": "emSkikFWiJ-3",
        "outputId": "566cbe56-503c-45bb-f0ba-c48867b4cc70"
      },
      "execution_count": 18,
      "outputs": [
        {
          "output_type": "stream",
          "name": "stdout",
          "text": [
            "3\n"
          ]
        }
      ]
    }
  ]
}